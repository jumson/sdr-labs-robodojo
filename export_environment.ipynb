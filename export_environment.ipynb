{
 "cells": [
  {
   "cell_type": "markdown",
   "metadata": {
    "slideshow": {
     "slide_type": "slide"
    }
   },
   "source": [
    "# Export the Current Operating Environment "
   ]
  },
  {
   "cell_type": "markdown",
   "metadata": {
    "ExecuteTime": {
     "end_time": "2018-09-21T18:08:02.586745Z",
     "start_time": "2018-09-21T18:08:02.562044Z"
    },
    "slideshow": {
     "slide_type": "fragment"
    }
   },
   "source": [
    "* This allows reproducable results, so anybody can create their own machine that can run the same notebooks."
   ]
  },
  {
   "cell_type": "markdown",
   "metadata": {
    "ExecuteTime": {
     "end_time": "2018-09-21T18:08:02.960520Z",
     "start_time": "2018-09-21T18:08:02.944651Z"
    },
    "slideshow": {
     "slide_type": "fragment"
    }
   },
   "source": [
    "* I'm not yet sure if specific things built here from source will work though. Probably not."
   ]
  },
  {
   "cell_type": "markdown",
   "metadata": {
    "slideshow": {
     "slide_type": "fragment"
    }
   },
   "source": [
    "* The resulting files can be used with [mybinder.org](https://mybinder.org/) to give anybody access to the same environment\n",
    "    * See [the documents for details](https://mybinder.readthedocs.io/en/latest/using.html#preparing-a-repository-for-binder)"
   ]
  },
  {
   "cell_type": "markdown",
   "metadata": {
    "cell_style": "split",
    "slideshow": {
     "slide_type": "slide"
    }
   },
   "source": [
    "## First, we will initialize some variables and filenames in python\n",
    "* These are based on the documentation from mybinder.org."
   ]
  },
  {
   "cell_type": "code",
   "execution_count": null,
   "metadata": {
    "ExecuteTime": {
     "end_time": "2018-09-21T18:13:44.593762Z",
     "start_time": "2018-09-21T18:13:44.580115Z"
    },
    "cell_style": "split",
    "slideshow": {
     "slide_type": "fragment"
    }
   },
   "outputs": [],
   "source": [
    "# If you used a different environment, enter the name of it\n",
    "conda_environment = 'base'\n",
    "conda_file = 'environment.yml'    \n",
    "pip_file = 'requirements.txt'\n",
    "ubuntu_packages = 'apt.txt'\n",
    "print(conda_environment,conda_file,pip_file,ubuntu_packages) "
   ]
  },
  {
   "cell_type": "markdown",
   "metadata": {
    "slideshow": {
     "slide_type": "slide"
    }
   },
   "source": [
    "## Get the conda environment\n",
    "The '!' means you are executing a bash command, in the ipython interpreter"
   ]
  },
  {
   "cell_type": "code",
   "execution_count": null,
   "metadata": {
    "ExecuteTime": {
     "end_time": "2018-09-21T18:14:41.178395Z",
     "start_time": "2018-09-21T18:14:19.413406Z"
    },
    "slideshow": {
     "slide_type": "fragment"
    }
   },
   "outputs": [],
   "source": [
    "# we can use python variables to inform Bash execution!\n",
    "!conda env export -n $conda_environment > $conda_file\n",
    "# we also see Bash output\n",
    "!cat $conda_file "
   ]
  },
  {
   "cell_type": "markdown",
   "metadata": {
    "slideshow": {
     "slide_type": "slide"
    }
   },
   "source": [
    "## export pip environment modules"
   ]
  },
  {
   "cell_type": "code",
   "execution_count": null,
   "metadata": {
    "ExecuteTime": {
     "end_time": "2018-09-21T18:14:48.145911Z",
     "start_time": "2018-09-21T18:14:41.188811Z"
    },
    "slideshow": {
     "slide_type": "fragment"
    }
   },
   "outputs": [],
   "source": [
    "!python -m pip freeze > $pip_file\n",
    "!cat $pip_file"
   ]
  },
  {
   "cell_type": "markdown",
   "metadata": {
    "cell_style": "center",
    "slideshow": {
     "slide_type": "slide"
    }
   },
   "source": [
    "## export and ubuntu packages installed"
   ]
  },
  {
   "cell_type": "code",
   "execution_count": null,
   "metadata": {
    "ExecuteTime": {
     "end_time": "2018-09-21T18:14:48.325466Z",
     "start_time": "2018-09-21T18:14:48.157597Z"
    },
    "cell_style": "split",
    "slideshow": {
     "slide_type": "fragment"
    }
   },
   "outputs": [],
   "source": [
    "# This is a python variable getting filled with the results \n",
    "# of a Bash command\n",
    "my_apts = !apt list --installed\n",
    "\n",
    "# The initial results contain some values \n",
    "# that are not entirely helpful\n",
    "print(my_apts[0:10])"
   ]
  },
  {
   "cell_type": "code",
   "execution_count": null,
   "metadata": {
    "ExecuteTime": {
     "end_time": "2018-09-21T18:14:48.357005Z",
     "start_time": "2018-09-21T18:14:48.336674Z"
    },
    "cell_style": "split"
   },
   "outputs": [],
   "source": [
    "# So I can slice them out\n",
    "my_apts = my_apts[4:]\n",
    "print(my_apts[0:10],'\\n') \n",
    "print(\"There are \",len(my_apts),\" packages\")"
   ]
  },
  {
   "cell_type": "code",
   "execution_count": null,
   "metadata": {
    "ExecuteTime": {
     "end_time": "2018-09-21T18:14:52.252868Z",
     "start_time": "2018-09-21T18:14:48.365072Z"
    },
    "slideshow": {
     "slide_type": "slide"
    }
   },
   "outputs": [],
   "source": [
    "import os\n",
    "!rm $ubuntu_packages\n",
    "with open(ubuntu_packages, 'a+') as apt_txt:\n",
    "    for line in my_apts:\n",
    "        #only get the apt name, not the other data\n",
    "        # they look like this: ['adduser/now 3.116ubuntu1 all [installed,local]']\n",
    "        the_apt = line.split('/')[0]\n",
    "        # this splits it into: ['adduser','now 3.116ubuntu1 all [installed,local]']\n",
    "        apt_txt.write(the_apt+'\\n')\n",
    "\n",
    "!wc -l $ubuntu_packages\n",
    "# apt_txt.close() happens on xompletion of \"with\" execution"
   ]
  },
  {
   "cell_type": "code",
   "execution_count": null,
   "metadata": {
    "ExecuteTime": {
     "end_time": "2018-09-21T18:14:54.189983Z",
     "start_time": "2018-09-21T18:14:52.261765Z"
    },
    "slideshow": {
     "slide_type": "fragment"
    }
   },
   "outputs": [],
   "source": [
    "!cat $ubuntu_packages"
   ]
  },
  {
   "cell_type": "markdown",
   "metadata": {
    "cell_style": "split",
    "slideshow": {
     "slide_type": "slide"
    }
   },
   "source": [
    "## Now these files are availible in this notebook directory to be used in a mybinder.org execution environment\n",
    "* They  key is to ensure these files are in a folder named 'binder' in the top level of the github/gitlab directory."
   ]
  },
  {
   "cell_type": "code",
   "execution_count": null,
   "metadata": {
    "ExecuteTime": {
     "end_time": "2018-09-21T18:14:56.978631Z",
     "start_time": "2018-09-21T18:14:54.980521Z"
    },
    "cell_style": "split",
    "slideshow": {
     "slide_type": "fragment"
    }
   },
   "outputs": [],
   "source": [
    "!ls ~/binder"
   ]
  },
  {
   "cell_type": "markdown",
   "metadata": {
    "cell_style": "split",
    "slideshow": {
     "slide_type": "fragment"
    }
   },
   "source": [
    "My particular binder directory is using a Dockerfile instead, because on top of the environment, i've built SoapySDR and some SoapySDR modules for interacting with my SDR devices"
   ]
  },
  {
   "cell_type": "markdown",
   "metadata": {
    "ExecuteTime": {
     "end_time": "2018-09-21T18:27:18.885823Z",
     "start_time": "2018-09-21T18:27:18.878833Z"
    },
    "slideshow": {
     "slide_type": "slide"
    }
   },
   "source": [
    "## Questions?"
   ]
  }
 ],
 "metadata": {
  "celltoolbar": "Slideshow",
  "kernelspec": {
   "display_name": "Python 3",
   "language": "python",
   "name": "python3"
  },
  "language_info": {
   "codemirror_mode": {
    "name": "ipython",
    "version": 3
   },
   "file_extension": ".py",
   "mimetype": "text/x-python",
   "name": "python",
   "nbconvert_exporter": "python",
   "pygments_lexer": "ipython3",
   "version": "3.6.3"
  },
  "livereveal": {
   "autolaunch": true,
   "theme": "sky",
   "transition": "zoom"
  },
  "toc": {
   "base_numbering": 1,
   "nav_menu": {},
   "number_sections": true,
   "sideBar": false,
   "skip_h1_title": false,
   "title_cell": "Table of Contents",
   "title_sidebar": "Contents",
   "toc_cell": false,
   "toc_position": {
    "height": "230.313px",
    "left": "105px",
    "top": "683px",
    "width": "380.66px"
   },
   "toc_section_display": true,
   "toc_window_display": false
  }
 },
 "nbformat": 4,
 "nbformat_minor": 2
}
